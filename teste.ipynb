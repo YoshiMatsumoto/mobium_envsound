{
 "cells": [
  {
   "cell_type": "code",
   "execution_count": 3,
   "metadata": {},
   "outputs": [
    {
     "ename": "error",
     "evalue": "OpenCV(3.4.2) /opt/concourse/worker/volumes/live/9523d527-1b9e-48e0-7ed0-a36adde286f0/volume/opencv-suite_1535558719691/work/modules/objdetect/src/cascadedetect.cpp:1698: error: (-215:Assertion failed) !empty() in function 'detectMultiScale'\n",
     "output_type": "error",
     "traceback": [
      "\u001b[0;31m---------------------------------------------------------------------------\u001b[0m",
      "\u001b[0;31merror\u001b[0m                                     Traceback (most recent call last)",
      "\u001b[0;32m<ipython-input-3-5d1affe75f96>\u001b[0m in \u001b[0;36m<module>\u001b[0;34m\u001b[0m\n\u001b[1;32m     25\u001b[0m \u001b[0;34m\u001b[0m\u001b[0m\n\u001b[1;32m     26\u001b[0m         \u001b[0;31m# 顔認識の実行\u001b[0m\u001b[0;34m\u001b[0m\u001b[0;34m\u001b[0m\u001b[0;34m\u001b[0m\u001b[0m\n\u001b[0;32m---> 27\u001b[0;31m         \u001b[0mfacerect\u001b[0m \u001b[0;34m=\u001b[0m \u001b[0mcascade\u001b[0m\u001b[0;34m.\u001b[0m\u001b[0mdetectMultiScale\u001b[0m\u001b[0;34m(\u001b[0m\u001b[0mframe\u001b[0m\u001b[0;34m)\u001b[0m\u001b[0;31m#, scaleFactor=1.2, minNeighbors=2, minSize=(10,10))\u001b[0m\u001b[0;34m\u001b[0m\u001b[0;34m\u001b[0m\u001b[0m\n\u001b[0m\u001b[1;32m     28\u001b[0m \u001b[0;34m\u001b[0m\u001b[0m\n\u001b[1;32m     29\u001b[0m         \u001b[0;31m# 顔が見つかったらcv2.rectangleで顔に白枠を表示する\u001b[0m\u001b[0;34m\u001b[0m\u001b[0;34m\u001b[0m\u001b[0;34m\u001b[0m\u001b[0m\n",
      "\u001b[0;31merror\u001b[0m: OpenCV(3.4.2) /opt/concourse/worker/volumes/live/9523d527-1b9e-48e0-7ed0-a36adde286f0/volume/opencv-suite_1535558719691/work/modules/objdetect/src/cascadedetect.cpp:1698: error: (-215:Assertion failed) !empty() in function 'detectMultiScale'\n"
     ]
    }
   ],
   "source": [
    "# coding: utf-8\n",
    "\n",
    "import cv2 \n",
    "\n",
    "if __name__ == \"__main__\":\n",
    "    \n",
    "    # 内蔵カメラを起動\n",
    "    cap = cv2.VideoCapture(0)\n",
    "\n",
    "    # OpenCVに用意されている顔認識するためのxmlファイルのパス\n",
    "    cascade_path = \"/usr/local/share/OpenCV/haarcascades/haarcascade_frontalface_alt.xml\"\n",
    "    # カスケード分類器の特徴量を取得する\n",
    "    cascade = cv2.CascadeClassifier(cascade_path)\n",
    "    \n",
    "    # 顔に表示される枠の色を指定（白色）\n",
    "    color = (255,255,255)\n",
    "\n",
    "    while True:\n",
    "    \n",
    "        # 内蔵カメラから読み込んだキャプチャデータを取得\n",
    "        ret, frame = cap.read()\n",
    "    \n",
    "        # モノクロで表示する\n",
    "        #frame = cv2.cvtColor(frame, cv2.COLOR_BGR2GRAY)\n",
    "\n",
    "        # 顔認識の実行\n",
    "        facerect = cascade.detectMultiScale(frame)#, scaleFactor=1.2, minNeighbors=2, minSize=(10,10))\n",
    "\n",
    "        # 顔が見つかったらcv2.rectangleで顔に白枠を表示する\n",
    "        if len(facerect) > 0:\n",
    "            for rect in facerect:\n",
    "                cv2.rectangle(frame, tuple(rect[0:2]), tuple(rect[0:2]+rect[2:4]), color, thickness=2)\n",
    "    \n",
    "        # 表示\n",
    "        cv2.imshow(\"frame\", frame)\n",
    "\n",
    "        # qキーを押すとループ終了\n",
    "        if cv2.waitKey(1) & 0xFF == ord('q'):\n",
    "            break\n",
    "\n",
    "    # 内蔵カメラを終了\n",
    "    cap.release()\n",
    "    cv2.destroyAllWindows()"
   ]
  },
  {
   "cell_type": "code",
   "execution_count": null,
   "metadata": {},
   "outputs": [],
   "source": []
  }
 ],
 "metadata": {
  "kernelspec": {
   "display_name": "Python 3",
   "language": "python",
   "name": "python3"
  },
  "language_info": {
   "codemirror_mode": {
    "name": "ipython",
    "version": 3
   },
   "file_extension": ".py",
   "mimetype": "text/x-python",
   "name": "python",
   "nbconvert_exporter": "python",
   "pygments_lexer": "ipython3",
   "version": "3.7.1"
  }
 },
 "nbformat": 4,
 "nbformat_minor": 2
}
